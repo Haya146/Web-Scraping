{
  "nbformat": 4,
  "nbformat_minor": 0,
  "metadata": {
    "colab": {
      "provenance": [],
      "authorship_tag": "ABX9TyPMKMFJxc17QBvhlrV57yx3",
      "include_colab_link": true
    },
    "kernelspec": {
      "name": "python3",
      "display_name": "Python 3"
    },
    "language_info": {
      "name": "python"
    }
  },
  "cells": [
    {
      "cell_type": "markdown",
      "metadata": {
        "id": "view-in-github",
        "colab_type": "text"
      },
      "source": [
        "<a href=\"https://colab.research.google.com/github/Haya146/Web-Scraping/blob/main/AI_Enginer_Wuzzuf_Scrapping_csv.ipynb\" target=\"_parent\"><img src=\"https://colab.research.google.com/assets/colab-badge.svg\" alt=\"Open In Colab\"/></a>"
      ]
    },
    {
      "cell_type": "code",
      "source": [
        "import requests\n",
        "from bs4 import BeautifulSoup"
      ],
      "metadata": {
        "id": "udnpJIRrNpCI"
      },
      "execution_count": 36,
      "outputs": []
    },
    {
      "cell_type": "code",
      "execution_count": 37,
      "metadata": {
        "id": "Zx-jDXhzNm3y"
      },
      "outputs": [],
      "source": [
        "url = 'https://wuzzuf.net/search/jobs/?a=hpb%7Cspbg&q=Ai%20Engineer'"
      ]
    },
    {
      "cell_type": "markdown",
      "source": [
        "## Check wether website suports scraping or not"
      ],
      "metadata": {
        "id": "s_FkNN0AOOOh"
      }
    },
    {
      "cell_type": "markdown",
      "source": [
        "response = 200 -> support"
      ],
      "metadata": {
        "id": "H45L5-OdOVlX"
      }
    },
    {
      "cell_type": "code",
      "source": [
        "requests.get(url)"
      ],
      "metadata": {
        "colab": {
          "base_uri": "https://localhost:8080/"
        },
        "id": "KWmuF_X5NtdP",
        "outputId": "67eb19c1-e87c-40d2-bead-a460b8c19f74"
      },
      "execution_count": 38,
      "outputs": [
        {
          "output_type": "execute_result",
          "data": {
            "text/plain": [
              "<Response [200]>"
            ]
          },
          "metadata": {},
          "execution_count": 38
        }
      ]
    },
    {
      "cell_type": "code",
      "source": [
        "website = requests.get(url).text\n"
      ],
      "metadata": {
        "id": "VTUJkaT7OgSo"
      },
      "execution_count": 63,
      "outputs": []
    },
    {
      "cell_type": "code",
      "source": [
        "type(website)"
      ],
      "metadata": {
        "id": "Iq1D51jcO-xI",
        "colab": {
          "base_uri": "https://localhost:8080/"
        },
        "outputId": "9b0b9b51-26c0-4056-f6d1-a418ced628b3"
      },
      "execution_count": 40,
      "outputs": [
        {
          "output_type": "execute_result",
          "data": {
            "text/plain": [
              "str"
            ]
          },
          "metadata": {},
          "execution_count": 40
        }
      ]
    },
    {
      "cell_type": "code",
      "source": [
        "# str -> html\n",
        "htmlwebsite = BeautifulSoup(website,'lxml') # lxml :paser -> understand str as html\n"
      ],
      "metadata": {
        "collapsed": true,
        "id": "iSv5F8fhOKeX"
      },
      "execution_count": 62,
      "outputs": []
    },
    {
      "cell_type": "code",
      "source": [
        "type(htmlwebsite)"
      ],
      "metadata": {
        "colab": {
          "base_uri": "https://localhost:8080/",
          "height": 221
        },
        "id": "xW_V1cUbOiQ9",
        "outputId": "3098b595-c66c-4b80-a796-bb028eb0fd03"
      },
      "execution_count": 42,
      "outputs": [
        {
          "output_type": "execute_result",
          "data": {
            "text/plain": [
              "bs4.BeautifulSoup"
            ],
            "text/html": [
              "<div style=\"max-width:800px; border: 1px solid var(--colab-border-color);\"><style>\n",
              "      pre.function-repr-contents {\n",
              "        overflow-x: auto;\n",
              "        padding: 8px 12px;\n",
              "        max-height: 500px;\n",
              "      }\n",
              "\n",
              "      pre.function-repr-contents.function-repr-contents-collapsed {\n",
              "        cursor: pointer;\n",
              "        max-height: 100px;\n",
              "      }\n",
              "    </style>\n",
              "    <pre style=\"white-space: initial; background:\n",
              "         var(--colab-secondary-surface-color); padding: 8px 12px;\n",
              "         border-bottom: 1px solid var(--colab-border-color);\"><b>bs4.BeautifulSoup</b><br/>def __call__(name: Optional[_StrainableElement]=None, attrs: _StrainableAttributes={}, recursive: bool=True, string: Optional[_StrainableString]=None, limit: Optional[int]=None, _stacklevel: int=2, **kwargs: _StrainableAttribute) -&gt; _QueryResults</pre><pre class=\"function-repr-contents function-repr-contents-collapsed\" style=\"\"><a class=\"filepath\" style=\"display:none\" href=\"#\">/usr/local/lib/python3.11/dist-packages/bs4/__init__.py</a>A data structure representing a parsed HTML or XML document.\n",
              "\n",
              "Most of the methods you&#x27;ll call on a BeautifulSoup object are inherited from\n",
              "PageElement or Tag.\n",
              "\n",
              "Internally, this class defines the basic interface called by the\n",
              "tree builders when converting an HTML/XML document into a data\n",
              "structure. The interface abstracts away the differences between\n",
              "parsers. To write a new tree builder, you&#x27;ll need to understand\n",
              "these methods as a whole.\n",
              "\n",
              "These methods will be called by the BeautifulSoup constructor:\n",
              "  * reset()\n",
              "  * feed(markup)\n",
              "\n",
              "The tree builder may call these methods from its feed() implementation:\n",
              "  * handle_starttag(name, attrs) # See note about return value\n",
              "  * handle_endtag(name)\n",
              "  * handle_data(data) # Appends to the current data node\n",
              "  * endData(containerClass) # Ends the current data node\n",
              "\n",
              "No matter how complicated the underlying parser is, you should be\n",
              "able to build a tree using &#x27;start tag&#x27; events, &#x27;end tag&#x27; events,\n",
              "&#x27;data&#x27; events, and &quot;done with data&quot; events.\n",
              "\n",
              "If you encounter an empty-element tag (aka a self-closing tag,\n",
              "like HTML&#x27;s &lt;br&gt; tag), call handle_starttag and then\n",
              "handle_endtag.</pre>\n",
              "      <script>\n",
              "      if (google.colab.kernel.accessAllowed && google.colab.files && google.colab.files.view) {\n",
              "        for (const element of document.querySelectorAll('.filepath')) {\n",
              "          element.style.display = 'block'\n",
              "          element.onclick = (event) => {\n",
              "            event.preventDefault();\n",
              "            event.stopPropagation();\n",
              "            google.colab.files.view(element.textContent, 133);\n",
              "          };\n",
              "        }\n",
              "      }\n",
              "      for (const element of document.querySelectorAll('.function-repr-contents')) {\n",
              "        element.onclick = (event) => {\n",
              "          event.preventDefault();\n",
              "          event.stopPropagation();\n",
              "          element.classList.toggle('function-repr-contents-collapsed');\n",
              "        };\n",
              "      }\n",
              "      </script>\n",
              "      </div>"
            ]
          },
          "metadata": {},
          "execution_count": 42
        }
      ]
    },
    {
      "cell_type": "code",
      "source": [
        "htmlwebsite.title"
      ],
      "metadata": {
        "colab": {
          "base_uri": "https://localhost:8080/"
        },
        "id": "ar-RmTeEPCkN",
        "outputId": "9f3bd0bf-0c1f-442d-bf70-c707450fc900"
      },
      "execution_count": 43,
      "outputs": [
        {
          "output_type": "execute_result",
          "data": {
            "text/plain": [
              "<title data-react-helmet=\"true\">167 Ai Engineer jobs in Egypt – discover job details now on Wuzzuf!</title>"
            ]
          },
          "metadata": {},
          "execution_count": 43
        }
      ]
    },
    {
      "cell_type": "code",
      "source": [
        "htmlwebsite.title.text"
      ],
      "metadata": {
        "colab": {
          "base_uri": "https://localhost:8080/",
          "height": 36
        },
        "id": "_fqajlx1PKuo",
        "outputId": "d7acf696-f82a-4c59-cb27-c5fd31c06a35"
      },
      "execution_count": 44,
      "outputs": [
        {
          "output_type": "execute_result",
          "data": {
            "text/plain": [
              "'167 Ai Engineer jobs in Egypt – discover job details now on Wuzzuf!'"
            ],
            "application/vnd.google.colaboratory.intrinsic+json": {
              "type": "string"
            }
          },
          "metadata": {},
          "execution_count": 44
        }
      ]
    },
    {
      "cell_type": "code",
      "source": [
        "job = htmlwebsite.find('div',class_ = 'css-1gatmva e1v1l3u10')"
      ],
      "metadata": {
        "id": "k5x77IrmPihR"
      },
      "execution_count": 45,
      "outputs": []
    },
    {
      "cell_type": "code",
      "source": [
        "job.text"
      ],
      "metadata": {
        "colab": {
          "base_uri": "https://localhost:8080/",
          "height": 36
        },
        "id": "kQQ7oeDWQHVS",
        "outputId": "dc1951d3-1d34-47c7-bd93-8e35c35e614a"
      },
      "execution_count": 46,
      "outputs": [
        {
          "output_type": "execute_result",
          "data": {
            "text/plain": [
              "'AI EngineerSprint Star - Cairo, Egypt 2 days agoFull TimeHybridExperienced · 3 - 5 Yrs of Exp · IT/Software Development · Python · AI'"
            ],
            "application/vnd.google.colaboratory.intrinsic+json": {
              "type": "string"
            }
          },
          "metadata": {},
          "execution_count": 46
        }
      ]
    },
    {
      "cell_type": "code",
      "source": [
        "title = job.find('a',class_='css-o171kl')\n",
        "title"
      ],
      "metadata": {
        "colab": {
          "base_uri": "https://localhost:8080/"
        },
        "id": "BkAC2bKlQJWU",
        "outputId": "0a5eac99-34a3-49f2-8b97-24873da890b0"
      },
      "execution_count": 47,
      "outputs": [
        {
          "output_type": "execute_result",
          "data": {
            "text/plain": [
              "<a class=\"css-o171kl\" href=\"https://wuzzuf.net/jobs/p/ui8fafxnvwlj-ai-engineer-sprint-star-cairo-egypt\" rel=\"noreferrer\" target=\"_blank\">AI Engineer</a>"
            ]
          },
          "metadata": {},
          "execution_count": 47
        }
      ]
    },
    {
      "cell_type": "code",
      "source": [
        "title.text"
      ],
      "metadata": {
        "colab": {
          "base_uri": "https://localhost:8080/",
          "height": 36
        },
        "id": "GROw9Df9Qajx",
        "outputId": "5aeee075-0741-4bd8-c550-f48fca60d65b"
      },
      "execution_count": 48,
      "outputs": [
        {
          "output_type": "execute_result",
          "data": {
            "text/plain": [
              "'AI Engineer'"
            ],
            "application/vnd.google.colaboratory.intrinsic+json": {
              "type": "string"
            }
          },
          "metadata": {},
          "execution_count": 48
        }
      ]
    },
    {
      "cell_type": "code",
      "source": [
        "company = job.find('a',class_ = 'css-17s97q8').text\n",
        "company"
      ],
      "metadata": {
        "colab": {
          "base_uri": "https://localhost:8080/",
          "height": 36
        },
        "id": "KggpEsg4QjLJ",
        "outputId": "830f6e51-3c20-42f0-81ae-417ff5c2658d"
      },
      "execution_count": 49,
      "outputs": [
        {
          "output_type": "execute_result",
          "data": {
            "text/plain": [
              "'Sprint Star -'"
            ],
            "application/vnd.google.colaboratory.intrinsic+json": {
              "type": "string"
            }
          },
          "metadata": {},
          "execution_count": 49
        }
      ]
    },
    {
      "cell_type": "code",
      "source": [
        "location = job.find('span', class_= 'css-5wys0k').text\n",
        "location"
      ],
      "metadata": {
        "colab": {
          "base_uri": "https://localhost:8080/",
          "height": 36
        },
        "id": "3m74c7IoQ74X",
        "outputId": "1589bbd3-b1bc-4e70-9628-3c0ead64f7cd"
      },
      "execution_count": 50,
      "outputs": [
        {
          "output_type": "execute_result",
          "data": {
            "text/plain": [
              "'Cairo, Egypt '"
            ],
            "application/vnd.google.colaboratory.intrinsic+json": {
              "type": "string"
            }
          },
          "metadata": {},
          "execution_count": 50
        }
      ]
    },
    {
      "cell_type": "code",
      "source": [
        "jobtype = job.find('span',class_= 'css-1ve4b75 eoyjyou0').text\n",
        "jobtype"
      ],
      "metadata": {
        "colab": {
          "base_uri": "https://localhost:8080/",
          "height": 36
        },
        "id": "JQXUeVQhRWFD",
        "outputId": "dd8a3215-ab74-4658-8468-2b16db0a17e9"
      },
      "execution_count": 51,
      "outputs": [
        {
          "output_type": "execute_result",
          "data": {
            "text/plain": [
              "'Full Time'"
            ],
            "application/vnd.google.colaboratory.intrinsic+json": {
              "type": "string"
            }
          },
          "metadata": {},
          "execution_count": 51
        }
      ]
    },
    {
      "cell_type": "code",
      "source": [
        "jobtitles = htmlwebsite.find_all('a',class_='css-o171kl')\n",
        "len(jobtitles)"
      ],
      "metadata": {
        "id": "J_xXoaerR8ZC",
        "colab": {
          "base_uri": "https://localhost:8080/"
        },
        "outputId": "bd03e4a8-f6df-4b6d-cdb4-849569d0dad5"
      },
      "execution_count": 52,
      "outputs": [
        {
          "output_type": "execute_result",
          "data": {
            "text/plain": [
              "152"
            ]
          },
          "metadata": {},
          "execution_count": 52
        }
      ]
    },
    {
      "cell_type": "code",
      "source": [
        "jobs = htmlwebsite.find_all('div',class_ = 'css-1gatmva e1v1l3u10')\n",
        "len(jobs)"
      ],
      "metadata": {
        "colab": {
          "base_uri": "https://localhost:8080/"
        },
        "id": "SXmSzsUgYEhh",
        "outputId": "ddf4e742-d68e-4b88-de58-861043ea2a7a"
      },
      "execution_count": 53,
      "outputs": [
        {
          "output_type": "execute_result",
          "data": {
            "text/plain": [
              "15"
            ]
          },
          "metadata": {},
          "execution_count": 53
        }
      ]
    },
    {
      "cell_type": "code",
      "source": [
        "jobs = htmlwebsite.find_all('div',class_ = 'css-1gatmva e1v1l3u10')\n",
        "\n",
        "for job in jobs:\n",
        "  title = job.find('a',class_='css-o171kl').text\n",
        "  company = job.find('a',class_ = 'css-17s97q8').text\n",
        "  location = job.find('span', class_= 'css-5wys0k').text\n",
        "  jobtype = job.find('span',class_= 'css-1ve4b75 eoyjyou0').text\n",
        "\n",
        "  print ('Title: ',title, ' company: ',company,' location: ',location,' type: ',jobtype, '\\n')\n",
        "\n"
      ],
      "metadata": {
        "colab": {
          "base_uri": "https://localhost:8080/"
        },
        "id": "LmH9wFE1Yhbk",
        "outputId": "cda75bcb-bcd2-4283-a507-f5c4f3ee38ef"
      },
      "execution_count": 54,
      "outputs": [
        {
          "output_type": "stream",
          "name": "stdout",
          "text": [
            "Title:  AI Engineer  company:  Sprint Star -  location:  Cairo, Egypt   type:  Full Time \n",
            "\n",
            "Title:  AI Engineer - Travel Tech  company:  Rahala -  location:  Mohandessin, Giza, Egypt   type:  Full Time \n",
            "\n",
            "Title:  MLOps + AI Engineer  company:  Confidential -  location:  Cairo, Egypt   type:  Full Time \n",
            "\n",
            "Title:  Software Engineer (AI & Data Analytics)  company:  Confidential -  location:  Maadi, Cairo, Egypt   type:  Full Time \n",
            "\n",
            "Title:  AI Engineering Manager  company:  Link Development -  location:  Cairo, Egypt   type:  Full Time \n",
            "\n",
            "Title:  AI Software Engineer  company:  TechJump -  location:  Cairo, Egypt   type:  Full Time \n",
            "\n",
            "Title:  AI Engineer  company:  ProVision Group -  location:  Maadi, Cairo, Egypt   type:  Full Time \n",
            "\n",
            "Title:  AI Engineer (LLM / NLP)  company:  Avanguard -  location:  New Cairo, Cairo, Egypt   type:  Full Time \n",
            "\n",
            "Title:  AI Engineer  company:  AgChat -  location:  Cairo, Egypt   type:  Full Time \n",
            "\n",
            "Title:  Generative AI & Digital Marketing Intern (Engineering Consultancy)  company:  East Consultants -  location:  Maadi, Cairo, Egypt   type:  Internship \n",
            "\n",
            "Title:  Senior AI Engineer  company:  Link Development -  location:  Cairo, Egypt   type:  Full Time \n",
            "\n",
            "Title:  AI Trainer Technical Track Engineers & Developers  company:  Avanguard -  location:  New Cairo, Cairo, Egypt   type:  Full Time \n",
            "\n",
            "Title:  Product Manager – Data & AI Products  company:  HiRemoters -  location:  Cairo, Egypt   type:  Full Time \n",
            "\n",
            "Title:  AI DESIGN ARCHITECT  company:  AL ROUKN ENGINEERING CONSULTANT -  location:  Heliopolis, Cairo, Egypt   type:  Full Time \n",
            "\n",
            "Title:  NLP Python Engineer  company:  Confidential -  location:  Cairo, Egypt   type:  Full Time \n",
            "\n"
          ]
        }
      ]
    },
    {
      "cell_type": "code",
      "source": [
        "'''\n",
        "page1 : https://wuzzuf.net/search/jobs/?a=hpb%7Cspbg&q=Ai%20Engineer&start=0\n",
        "page2 : https://wuzzuf.net/search/jobs/?a=hpb%7Cspbg&q=Ai%20Engineer&start=1\n",
        "page3 : https://wuzzuf.net/search/jobs/?a=hpb%7Cspbg&q=Ai%20Engineer&start=2\n",
        "page4 : https://wuzzuf.net/search/jobs/?a=hpb%7Cspbg&q=Ai%20Engineer&start=3\n",
        "page5 : https://wuzzuf.net/search/jobs/?a=hpb%7Cspbg&q=Ai%20Engineer&start=4\n",
        "'''"
      ],
      "metadata": {
        "colab": {
          "base_uri": "https://localhost:8080/",
          "height": 70
        },
        "id": "BRI1PupvZTpg",
        "outputId": "6e2811be-68d8-4f0b-cff3-c6b63dcf686c"
      },
      "execution_count": 55,
      "outputs": [
        {
          "output_type": "execute_result",
          "data": {
            "text/plain": [
              "'\\npage1 : https://wuzzuf.net/search/jobs/?a=hpb%7Cspbg&q=Ai%20Engineer&start=0\\npage2 : https://wuzzuf.net/search/jobs/?a=hpb%7Cspbg&q=Ai%20Engineer&start=1\\npage3 : https://wuzzuf.net/search/jobs/?a=hpb%7Cspbg&q=Ai%20Engineer&start=2\\npage4 : https://wuzzuf.net/search/jobs/?a=hpb%7Cspbg&q=Ai%20Engineer&start=3\\npage5 : https://wuzzuf.net/search/jobs/?a=hpb%7Cspbg&q=Ai%20Engineer&start=4\\n'"
            ],
            "application/vnd.google.colaboratory.intrinsic+json": {
              "type": "string"
            }
          },
          "metadata": {},
          "execution_count": 55
        }
      ]
    },
    {
      "cell_type": "code",
      "source": [
        "for i in range(12):\n",
        "  url = f'https://wuzzuf.net/search/jobs/?a=hpb%7Cspbg&q=Ai%20Engineer&start={i}'\n",
        "  website = requests.get(url).text\n",
        "  bs = BeautifulSoup(website,'lxml')\n",
        "  jobs = bs.find_all('div',class_ = 'css-1gatmva e1v1l3u10')\n",
        "\n",
        "  for job in jobs:\n",
        "    title = job.find('a',class_='css-o171kl').text\n",
        "    company = job.find('a',class_ = 'css-17s97q8').text\n",
        "    location = job.find('span', class_= 'css-5wys0k').text\n",
        "    jobtype = job.find('span',class_= 'css-1ve4b75 eoyjyou0').text\n",
        "\n",
        "    print (title, company,location,jobtype, '\\n')\n"
      ],
      "metadata": {
        "colab": {
          "base_uri": "https://localhost:8080/"
        },
        "id": "Hc1AnQzQaMLG",
        "outputId": "623e03e2-8b14-4671-a134-1890c0eee66a",
        "collapsed": true
      },
      "execution_count": 56,
      "outputs": [
        {
          "output_type": "stream",
          "name": "stdout",
          "text": [
            "AI Engineer Sprint Star - Cairo, Egypt  Full Time \n",
            "\n",
            "AI Engineer - Travel Tech Rahala - Mohandessin, Giza, Egypt  Full Time \n",
            "\n",
            "MLOps + AI Engineer Confidential - Cairo, Egypt  Full Time \n",
            "\n",
            "Software Engineer (AI & Data Analytics) Confidential - Maadi, Cairo, Egypt  Full Time \n",
            "\n",
            "AI Engineering Manager Link Development - Cairo, Egypt  Full Time \n",
            "\n",
            "AI Software Engineer TechJump - Cairo, Egypt  Full Time \n",
            "\n",
            "AI Engineer ProVision Group - Maadi, Cairo, Egypt  Full Time \n",
            "\n",
            "AI Engineer (LLM / NLP) Avanguard - New Cairo, Cairo, Egypt  Full Time \n",
            "\n",
            "AI Engineer AgChat - Cairo, Egypt  Full Time \n",
            "\n",
            "Generative AI & Digital Marketing Intern (Engineering Consultancy) East Consultants - Maadi, Cairo, Egypt  Internship \n",
            "\n",
            "Senior AI Engineer Link Development - Cairo, Egypt  Full Time \n",
            "\n",
            "AI Trainer Technical Track Engineers & Developers Avanguard - New Cairo, Cairo, Egypt  Full Time \n",
            "\n",
            "Product Manager – Data & AI Products HiRemoters - Cairo, Egypt  Full Time \n",
            "\n",
            "AI DESIGN ARCHITECT AL ROUKN ENGINEERING CONSULTANT - Heliopolis, Cairo, Egypt  Full Time \n",
            "\n",
            "NLP Python Engineer Confidential - Cairo, Egypt  Full Time \n",
            "\n",
            "Django Backend Developer & AI Integration Engineer ScribeMe - Cairo, Egypt  Part Time \n",
            "\n",
            "AI Trainer High School & Early Learners Avanguard - New Cairo, Cairo, Egypt  Full Time \n",
            "\n",
            "AI Trainer Consultant & Trainer Track Avanguard - New Cairo, Cairo, Egypt  Full Time \n",
            "\n",
            "Integration Engineer (Automation) Confidential - Assiut, Egypt  Freelance / Project \n",
            "\n",
            "AI Trainer Business & Functional Leaders Track Avanguard - New Cairo, Cairo, Egypt  Full Time \n",
            "\n",
            "Graduate Internship: Enterprise Software Engineering eT3 - Tomorrow Information Technology - New Cairo, Cairo, Egypt  Internship \n",
            "\n",
            "AI Engineer (Computer Vision, Speech, NLP & Generative AI) Madar Soft - Fleming, Alexandria, Egypt  Full Time \n",
            "\n",
            "Technical Project Architect Innovation Design Studio - Sheraton, Cairo, Egypt  Full Time \n",
            "\n",
            "Enterprise Data Warehouse and Business intelligence Engineer (Microsoft Technology SSIS-SSAS) The Micro, Small & Medium Enterprise Development Agency  - Dokki, Giza, Egypt  Full Time \n",
            "\n",
            "MLOps Engineer Confidential - Cairo, Egypt  Full Time \n",
            "\n",
            "AI Research Engineer (Model Evaluation) Tether.to - Dubai, United Arab Emirates  Full Time \n",
            "\n",
            "AI Engineer - Asia The Flex - Riyadh, Saudi Arabia  Full Time \n",
            "\n",
            "AI Engineer - Client Engineering KSA IBM - Riyadh, Saudi Arabia  Full Time \n",
            "\n",
            "Mechanical Technical Office Engineer ElBattat Steel - Beheira, Egypt  Full Time \n",
            "\n",
            "Automation Engineer Creative Motion - Maadi, Cairo, Egypt  Full Time \n",
            "\n",
            "Senior UI/UX Designer Bydotpy - Maadi, Cairo, Egypt  Full Time \n",
            "\n",
            "Technical Support Engineer Vijua - 6th of October, Giza, Egypt  Full Time \n",
            "\n",
            "Business AI Coordinator  Roaya - Maadi, Cairo, Egypt  Full Time \n",
            "\n",
            "Senior Product Manager - Gen AI EPAM Systems - Dubai, United Arab Emirates  Full Time \n",
            "\n",
            "Partner Sales Director - Azure, Data & AI EPAM Systems - Dubai, United Arab Emirates  Freelance / Project \n",
            "\n",
            "Backend Developer Confidential - Cairo, Egypt  Full Time \n",
            "\n",
            "Senior Android Developer Madar Soft - Fleming, Alexandria, Egypt  Full Time \n",
            "\n",
            "Principal Product Manager, LearnWith.AI (Remote) - $200,000/year USD Trilogy - Dubai, United Arab Emirates  Full Time \n",
            "\n",
            "AI Automation Specialist / Architect sandan AI - Dubai, United Arab Emirates  Full Time \n",
            "\n",
            "Azure AI Solution Architect EPAM Systems - Dubai, United Arab Emirates  Full Time \n",
            "\n",
            "Quality Control Engineer (Substations division) Energya Cables - Heliopolis, Cairo, Egypt  Full Time \n",
            "\n",
            "Software Developer (ERP, Mobile Apps & Data Integration) iLock - Cairo, Egypt  Full Time \n",
            "\n",
            "BMS Senior Engineer Advansys Intelligent Solutions - Nasr City, Cairo, Egypt  Full Time \n",
            "\n",
            "Software Developer American Global Health Inc. - Los Angeles, United States  Full Time \n",
            "\n",
            "Senior Backend Developer Billqode - Sheraton, Cairo, Egypt  Full Time \n",
            "\n",
            "Senior Flutter Developer Sulfah - Maadi, Cairo, Egypt  Full Time \n",
            "\n",
            "Technical Lead Billqode - Sheraton, Cairo, Egypt  Full Time \n",
            "\n",
            "Software Development Manager Confidential - 6th of October, Giza, Egypt  Full Time \n",
            "\n",
            "Signal Integrity & RF Systems Engineer Ottawave - Cairo, Egypt  Internship \n",
            "\n",
            "Testing Engineer OPPO Egypt  Manufacturing - 10th of Ramadan City, Cairo, Egypt  Full Time \n",
            "\n",
            "Network Instructor MICA - Haram, Giza, Egypt  Full Time \n",
            "\n",
            "Chief Technology Officer Confidential - New Cairo, Cairo, Egypt  Full Time \n",
            "\n",
            "Senior Laravel Developer 34ML - Heliopolis, Cairo, Egypt  Full Time \n",
            "\n",
            "Software Marketing Manager LINK TSP - New Cairo, Cairo, Egypt  Full Time \n",
            "\n",
            "Senior Data Engineer Xpress Automation - Dubai, United Arab Emirates  Full Time \n",
            "\n",
            "Solutions Engineer - Assurance & Automation - Middle East & Africa Cisco - Riyadh, Saudi Arabia  Full Time \n",
            "\n",
            "Senior Full Stack Developer A-eye tech - Cairo, Egypt  Full Time \n",
            "\n",
            "Staff ML Engineer AI71 - Dubai, United Arab Emirates  Full Time \n",
            "\n",
            "Senior Social Media Specialist WUZZUF - Maadi, Cairo, Egypt  Full Time \n",
            "\n",
            "Project Coordinator Confidential - Cairo, Egypt  Full Time \n",
            "\n",
            "Software Engineer III Mozn - Riyadh, Saudi Arabia  Full Time \n",
            "\n",
            "Machine Learning Engineer Mozn - Riyadh, Saudi Arabia  Full Time \n",
            "\n",
            "Lead Engineer - ML QA Inception - Dubai, United Arab Emirates  Full Time \n",
            "\n",
            "Senior Engineer - ML QA Inception - Dubai, United Arab Emirates  Full Time \n",
            "\n",
            "Technical Lead Naguib Selim - Cairo, Egypt  Full Time \n",
            "\n",
            "Machine Learning Engineer EPAM Systems - Dubai, United Arab Emirates  Full Time \n",
            "\n",
            "Mixing Engineer Twine - Dubai, United Arab Emirates  Full Time \n",
            "\n",
            "Lead Golang Software Engineer, Commercial Systems Canonical - Riyadh, Saudi Arabia  Full Time \n",
            "\n",
            "Lead Python Software Engineer, Commercial Systems Canonical - Dubai, United Arab Emirates  Full Time \n",
            "\n",
            "Full Stack Engineer Twine - Dubai, United Arab Emirates  Full Time \n",
            "\n",
            "Engineering Manager - App Stores Canonical - Riyadh, Saudi Arabia  Full Time \n",
            "\n",
            "Senior Juju Software Engineer (Go) Canonical - Dubai, United Arab Emirates  Full Time \n",
            "\n",
            "Engineering Manager for IAM (Identity and Access Management) Canonical - Riyadh, Saudi Arabia  Full Time \n",
            "\n",
            "Senior Engineering Manager- Ubuntu Canonical - Riyadh, Saudi Arabia  Full Time \n",
            "\n",
            "Technical Project Manager I.D.M Technologies - New Cairo, Cairo, Egypt  Full Time \n",
            "\n",
            "Electrical Infrastructure Senior Engineer - Quality Assurance Pulse Infrastructure Analytics - Riyadh, Saudi Arabia  Full Time \n",
            "\n",
            "Senior Performance Marketing Specialist WUZZUF - Maadi, Cairo, Egypt  Full Time \n",
            "\n",
            "Supply Chain Internship SAVOLA - Suez, Suez, Egypt  Internship \n",
            "\n",
            "Rust Engineering Lead - Linux and Open Source Canonical - Riyadh, Saudi Arabia  Full Time \n",
            "\n",
            "Software Engineer - App Stores Canonical - Riyadh, Saudi Arabia  Full Time \n",
            "\n",
            "QA Automation Tester Billqode - Sheraton, Cairo, Egypt  Full Time \n",
            "\n",
            "Cloud Support Engineer Canonical - Riyadh, Saudi Arabia  Full Time \n",
            "\n",
            "Engineering Manager- Ceph & Distributed Storage Canonical - Riyadh, Saudi Arabia  Full Time \n",
            "\n",
            "Microservices Engineer Canonical - Riyadh, Saudi Arabia  Full Time \n",
            "\n",
            "Java Developer (+2 years experience) 3D Diagnostix - Maadi, Cairo, Egypt  Full Time \n",
            "\n",
            "Quality Assurance & Technical Project Manager Melocalgate  - Jeddah, Saudi Arabia  Full Time \n",
            "\n",
            "Senior MLOps Engineer Inception - Dubai, United Arab Emirates  Full Time \n",
            "\n",
            "Presales Manager IT Arabian for Science and Technology Co. ASTC - Heliopolis, Cairo, Egypt  Full Time \n",
            "\n",
            "Backend Developer Aqarmap.com - Nasr City, Cairo, Egypt  Full Time \n",
            "\n",
            "Wordpress/PHP Web Developer Confidential - Sheikh Zayed, Giza, Egypt  Full Time \n",
            "\n",
            "HR Solutions Sales Partners (Middle East) SupportFinity™ - Riyadh, Saudi Arabia  Full Time \n",
            "\n",
            "Data Partner - Computer Science - Arabic - Remote - Global TELUS Digital - Riyadh, Saudi Arabia  Full Time \n",
            "\n",
            "TeleSales Representative Quanvex - Giza, Egypt  Full Time \n",
            "\n",
            "Senior Data Center Ethernet Network Engineer NVIDIA - Dubai, United Arab Emirates  Full Time \n",
            "\n",
            "Junior Linux Kernel Engineer - Ubuntu Canonical - Makkah, Saudi Arabia  Full Time \n",
            "\n",
            "Cloud Field Engineering Manager Canonical - Makkah, Saudi Arabia  Full Time \n",
            "\n",
            "Open edX Platform Manager/ Site Administrator- English Speaker Thaka International - Nasr City, Cairo, Egypt  Full Time \n",
            "\n",
            "IOS Mobile Developer Billqode - Sheraton, Cairo, Egypt  Full Time \n",
            "\n",
            "Software-Defined Networking Engineer Canonical - Riyadh, Saudi Arabia  Full Time \n",
            "\n",
            "UI/UX Designer ABS.AI - Cairo, Egypt  Full Time \n",
            "\n",
            "Odoo Presales Consultant OdooTec - New Cairo, Cairo, Egypt  Full Time \n",
            "\n",
            "Project Management Consultant | Digital Transformation Confidential - Muscat, Oman  Full Time \n",
            "\n",
            "Annotation Specialist Abwab.ai - Cairo, Egypt  Full Time \n",
            "\n",
            "Senior Flutter Developer - Part-time Codestien - 6th of October, Giza, Egypt  Part Time \n",
            "\n",
            "Senior Front End Developer Billqode - Sheraton, Cairo, Egypt  Full Time \n",
            "\n",
            "Smart Facilities Operations Manager Silicon21 - New Cairo, Cairo, Egypt  Full Time \n",
            "\n",
            "Sales Director - Middle East Fluidstack - Riyadh, Saudi Arabia  Full Time \n",
            "\n",
            "Junior Backend Developer (React.js / Node.js) Confidential - Maadi, Cairo, Egypt  Full Time \n",
            "\n",
            "Product Designer AI71 - Dubai, United Arab Emirates  Full Time \n",
            "\n",
            "Onboarding Product Director Rapyd - Dubai, United Arab Emirates  Full Time \n",
            "\n",
            "Data Science Intern Mozn - Riyadh, Saudi Arabia  Full Time \n",
            "\n",
            "Principal (Director) Data Science Consultant Practice Lead EPAM Systems - Riyadh, Saudi Arabia  Full Time \n",
            "\n",
            "Part time Search Analyst Saudi Arabia TELUS Digital AI Data Solutions - Riyadh, Saudi Arabia  Part Time \n",
            "\n",
            "Director, Product Management EPAM Systems - Dubai, United Arab Emirates  Full Time \n",
            "\n",
            "IT Supervisor Safety Point  - Cairo, Egypt  Full Time \n",
            "\n",
            "Cybersecurity Manager Inception - Dubai, United Arab Emirates  Full Time \n",
            "\n",
            "Sales Specialist. Data Governance and Quality Informatica - Riyadh, Saudi Arabia  Full Time \n",
            "\n",
            "Business Development Lead - MENA Cover Genius - Dubai, United Arab Emirates  Full Time \n",
            "\n",
            "Principal Product Manager, Trilogy (Remote) - $200,000/year USD Trilogy - Dubai, United Arab Emirates  Full Time \n",
            "\n",
            "Manager, Product Manager Canonical - Riyadh, Saudi Arabia  Full Time \n",
            "\n",
            "Senior Developer (Full Stack) CPX - Dubai, United Arab Emirates  Full Time \n",
            "\n",
            "Part time Search Analyst Saudi Arabia TELUS Digital - Riyadh, Saudi Arabia  Part Time \n",
            "\n",
            "Senior Technical Product Manager (100% remote - United Arab Emirates) Tether.to - Dubai, United Arab Emirates  Full Time \n",
            "\n",
            "Product Manager Canonical - Riyadh, Saudi Arabia  Full Time \n",
            "\n",
            "Senior Designer, MENASA - UAE WorkAsPro - Dubai, United Arab Emirates  Full Time \n",
            "\n",
            "Sales Development Analyst Mozn - Riyadh, Saudi Arabia  Full Time \n",
            "\n",
            "Product Manager - Industrial Sector Lead Canonical - Riyadh, Saudi Arabia  Full Time \n",
            "\n",
            "Head of Risk myZoi |  Financial Inclusion Technologies - Dubai, United Arab Emirates  Full Time \n",
            "\n",
            "Project Manager - Ubuntu Embedded Systems Canonical - Riyadh, Saudi Arabia  Full Time \n",
            "\n",
            "Project Manager - Ubuntu Embedded Systems Canonical - Riyadh, Saudi Arabia  Full Time \n",
            "\n",
            "Business Development Officer Timesworld - Dubai, United Arab Emirates  Freelance / Project \n",
            "\n",
            "Technical Sales Manager Crayon - Riyadh, Saudi Arabia  Full Time \n",
            "\n",
            "Freelance Web Designer Twine - Dubai, United Arab Emirates  Full Time \n",
            "\n",
            "UX Designer - Design systems Canonical - Riyadh, Saudi Arabia  Full Time \n",
            "\n",
            "Blockchain Developer Twine - Dubai, United Arab Emirates  Full Time \n",
            "\n",
            "Head - Data & Insights Aldar Education - Dubai, United Arab Emirates  Full Time \n",
            "\n",
            "Senior Search Lead - Technology Canonical - Riyadh, Saudi Arabia  Full Time \n",
            "\n",
            "3D Animator Twine - Dubai, United Arab Emirates  Full Time \n",
            "\n",
            "Product Manager - Hardware Certification Canonical - Riyadh, Saudi Arabia  Full Time \n",
            "\n",
            "Animator Twine - Dubai, United Arab Emirates  Full Time \n",
            "\n",
            "Graduate Talent Scientist Canonical - Dubai, United Arab Emirates  Full Time \n",
            "\n",
            "Information Systems - Open Source Technical Architect Canonical - Dubai, United Arab Emirates  Full Time \n",
            "\n",
            "Presenter Twine - Dubai, United Arab Emirates  Full Time \n",
            "\n",
            "UX Designer - Developer experience Canonical - Riyadh, Saudi Arabia  Full Time \n",
            "\n",
            "Assurance - External Audit Manager (Financial Services) - Riyadh, KSA PwC Middle East - Riyadh, Saudi Arabia  Full Time \n",
            "\n",
            "Quality Assurance (QA) Specialist Confidential - Cairo, Egypt  Full Time \n",
            "\n",
            "Product Designer Rapyd - Dubai, United Arab Emirates  Full Time \n",
            "\n",
            "Director, Talent Science Canonical - Riyadh, Saudi Arabia  Full Time \n",
            "\n",
            "BIM Director - Digital Project Delivery AECOM - Riyadh, Saudi Arabia  Full Time \n",
            "\n",
            "Full Stack Developer, Trilogy (Remote) - $60,000/year USD Trilogy - Riyadh, Saudi Arabia  Full Time \n",
            "\n",
            "Chatbot Developer MOBILY INFOTECH LTD INDIA - New Cairo, Cairo, Egypt  Full Time \n",
            "\n",
            "Business Development Executive - Middle East Oxford Economics - Dubai, United Arab Emirates  Full Time \n",
            "\n",
            "Product Manager - Desktop Canonical - Riyadh, Saudi Arabia  Full Time \n",
            "\n",
            "Assistant manager project development Net2Source Inc. - Dubai, United Arab Emirates  Full Time \n",
            "\n",
            "Business Development Representative Canonical - Riyadh, Saudi Arabia  Full Time \n",
            "\n",
            "Trainee Space42 - Dubai, United Arab Emirates  Full Time \n",
            "\n",
            "Cloud Professional Services Manager Canonical - Riyadh, Saudi Arabia  Full Time \n",
            "\n",
            "Business Services Team Manager Canonical - Makkah, Saudi Arabia  Full Time \n",
            "\n",
            "Sales Specialist Majid Al Futtaim - Riyadh, Saudi Arabia  Full Time \n",
            "\n",
            "Project Technical Delivery Manager NVIDIA - Dubai, United Arab Emirates  Full Time \n",
            "\n",
            "Senior Talent Acquisition Specialist Sutherland - New Cairo, Cairo, Egypt  Full Time \n",
            "\n",
            "Head of Regulatory & Compliance K Line Europe - Cairo, Egypt  Full Time \n",
            "\n",
            "Senior Product Growth Manager micro1 - Dubai, United Arab Emirates  Full Time \n",
            "\n",
            "Visual Effects Artist Twine - Dubai, United Arab Emirates  Full Time \n",
            "\n",
            "Revenue Accounting Manager - Software Industry, IFRS 15, NetSuite Canonical - Riyadh, Saudi Arabia  Full Time \n",
            "\n",
            "Sales Operations Analyst Canonical - Riyadh, Saudi Arabia  Full Time \n",
            "\n",
            "Travel Operations Specialist Canonical - Riyadh, Saudi Arabia  Full Time \n",
            "\n"
          ]
        }
      ]
    },
    {
      "cell_type": "code",
      "source": [
        "import csv"
      ],
      "metadata": {
        "id": "RZabcL1cbPIH"
      },
      "execution_count": 57,
      "outputs": []
    },
    {
      "cell_type": "code",
      "source": [
        "csvfile = open('AI Enginer-Wuzzuf Scrapping.csv','w')"
      ],
      "metadata": {
        "id": "A18QMrqIwUmw"
      },
      "execution_count": 58,
      "outputs": []
    },
    {
      "cell_type": "code",
      "source": [
        "write = csv.writer(csvfile)"
      ],
      "metadata": {
        "id": "uSkK308jwlAA"
      },
      "execution_count": 59,
      "outputs": []
    },
    {
      "cell_type": "code",
      "source": [
        "write.writerow(['Job Title', 'Company', 'Location', 'Job Type' ])"
      ],
      "metadata": {
        "colab": {
          "base_uri": "https://localhost:8080/"
        },
        "id": "EVfzCzYvw1-k",
        "outputId": "5cf7747d-1929-4220-9a10-d0c8f62caa7d"
      },
      "execution_count": 60,
      "outputs": [
        {
          "output_type": "execute_result",
          "data": {
            "text/plain": [
              "37"
            ]
          },
          "metadata": {},
          "execution_count": 60
        }
      ]
    },
    {
      "cell_type": "markdown",
      "source": [
        "37-> عدد الحروف الي اتكتبت في الفايل\n"
      ],
      "metadata": {
        "id": "T9FjYt54xT6-"
      }
    },
    {
      "cell_type": "code",
      "source": [
        "for i in range(12):\n",
        "  url = f'https://wuzzuf.net/search/jobs/?a=hpb%7Cspbg&q=Ai%20Engineer&start={i}'\n",
        "  website = requests.get(url).text\n",
        "  bs = BeautifulSoup(website,'lxml')\n",
        "  jobs = bs.find_all('div',class_ = 'css-1gatmva e1v1l3u10')\n",
        "\n",
        "  for job in jobs:\n",
        "    title = job.find('a',class_='css-o171kl').text\n",
        "    company = job.find('a',class_ = 'css-17s97q8').text\n",
        "    location = job.find('span', class_= 'css-5wys0k').text\n",
        "    jobtype = job.find('span',class_= 'css-1ve4b75 eoyjyou0').text\n",
        "\n",
        "    write.writerow ([title, company,location,jobtype])"
      ],
      "metadata": {
        "id": "Ivmcm-XaxTEB"
      },
      "execution_count": 61,
      "outputs": []
    },
    {
      "cell_type": "code",
      "source": [],
      "metadata": {
        "id": "Ta81y8tEx4BM"
      },
      "execution_count": 61,
      "outputs": []
    }
  ]
}